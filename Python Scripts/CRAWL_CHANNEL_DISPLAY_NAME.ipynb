{
 "cells": [
  {
   "cell_type": "code",
   "execution_count": 7,
   "metadata": {
    "ExecuteTime": {
     "end_time": "2018-09-14T06:26:52.265688Z",
     "start_time": "2018-09-14T06:26:52.264687Z"
    }
   },
   "outputs": [],
   "source": [
    "import  requests\n",
    "import re\n",
    "from bs4 import BeautifulSoup\n",
    "import numpy as np \n",
    "import glob\n",
    "import os\n",
    "import pandas as pd\n",
    "%matplotlib inline\n",
    "import warnings\n",
    "warnings.filterwarnings(\"ignore\")"
   ]
  },
  {
   "cell_type": "code",
   "execution_count": 8,
   "metadata": {
    "ExecuteTime": {
     "end_time": "2018-09-14T06:26:54.257766Z",
     "start_time": "2018-09-14T06:26:54.255764Z"
    }
   },
   "outputs": [],
   "source": [
    "data = pd.read_csv(\"results-20180912-113930.csv\")"
   ]
  },
  {
   "cell_type": "code",
   "execution_count": 9,
   "metadata": {
    "ExecuteTime": {
     "end_time": "2018-09-14T06:26:58.339797Z",
     "start_time": "2018-09-14T06:26:58.325789Z"
    }
   },
   "outputs": [
    {
     "data": {
      "text/html": [
       "<div>\n",
       "<style scoped>\n",
       "    .dataframe tbody tr th:only-of-type {\n",
       "        vertical-align: middle;\n",
       "    }\n",
       "\n",
       "    .dataframe tbody tr th {\n",
       "        vertical-align: top;\n",
       "    }\n",
       "\n",
       "    .dataframe thead th {\n",
       "        text-align: right;\n",
       "    }\n",
       "</style>\n",
       "<table border=\"1\" class=\"dataframe\">\n",
       "  <thead>\n",
       "    <tr style=\"text-align: right;\">\n",
       "      <th></th>\n",
       "      <th>channel_id</th>\n",
       "      <th>channel_display_name</th>\n",
       "    </tr>\n",
       "  </thead>\n",
       "  <tbody>\n",
       "    <tr>\n",
       "      <th>0</th>\n",
       "      <td>UC-CcF1XGCRASDRrEOI_zEnQ</td>\n",
       "      <td>Kan Kids</td>\n",
       "    </tr>\n",
       "    <tr>\n",
       "      <th>1</th>\n",
       "      <td>UC-ED1Y9R0Iss1r9sFxGo42g</td>\n",
       "      <td>Gia Khiêm</td>\n",
       "    </tr>\n",
       "    <tr>\n",
       "      <th>2</th>\n",
       "      <td>UC-N91-1XuOboAS_KOHWxpZw</td>\n",
       "      <td>Kênh Bé Yêu - Videos For Kids</td>\n",
       "    </tr>\n",
       "    <tr>\n",
       "      <th>3</th>\n",
       "      <td>UC01qSH2u9gy09mkY8DFZxBw</td>\n",
       "      <td>Angel Kids</td>\n",
       "    </tr>\n",
       "    <tr>\n",
       "      <th>4</th>\n",
       "      <td>UC0rDqtyve7lpHoQ1xjfZlTQ</td>\n",
       "      <td>AM Kids</td>\n",
       "    </tr>\n",
       "  </tbody>\n",
       "</table>\n",
       "</div>"
      ],
      "text/plain": [
       "                 channel_id           channel_display_name\n",
       "0  UC-CcF1XGCRASDRrEOI_zEnQ                       Kan Kids\n",
       "1  UC-ED1Y9R0Iss1r9sFxGo42g                      Gia Khiêm\n",
       "2  UC-N91-1XuOboAS_KOHWxpZw  Kênh Bé Yêu - Videos For Kids\n",
       "3  UC01qSH2u9gy09mkY8DFZxBw                     Angel Kids\n",
       "4  UC0rDqtyve7lpHoQ1xjfZlTQ                        AM Kids"
      ]
     },
     "execution_count": 9,
     "metadata": {},
     "output_type": "execute_result"
    }
   ],
   "source": [
    "data.head()"
   ]
  },
  {
   "cell_type": "code",
   "execution_count": 17,
   "metadata": {
    "ExecuteTime": {
     "end_time": "2018-09-14T06:38:38.191758Z",
     "start_time": "2018-09-14T06:38:38.183757Z"
    }
   },
   "outputs": [
    {
     "data": {
      "text/plain": [
       "(178, 2)"
      ]
     },
     "execution_count": 17,
     "metadata": {},
     "output_type": "execute_result"
    }
   ],
   "source": [
    "data.shape"
   ]
  },
  {
   "cell_type": "code",
   "execution_count": 18,
   "metadata": {
    "ExecuteTime": {
     "end_time": "2018-09-14T06:38:40.723752Z",
     "start_time": "2018-09-14T06:38:40.722752Z"
    }
   },
   "outputs": [
    {
     "data": {
      "text/plain": [
       "161"
      ]
     },
     "execution_count": 18,
     "metadata": {},
     "output_type": "execute_result"
    }
   ],
   "source": [
    "channel_id = data.channel_id.drop_duplicates()\n",
    "len(channel_id)"
   ]
  },
  {
   "cell_type": "code",
   "execution_count": 10,
   "metadata": {
    "ExecuteTime": {
     "end_time": "2018-09-14T06:27:00.773074Z",
     "start_time": "2018-09-14T06:27:00.772073Z"
    }
   },
   "outputs": [],
   "source": [
    "# https://www.youtube.com/channel/UCnidVRZng96xx-OVc6dK6fQ\n",
    "# <span id=\"channel-title\" class=\"style-scope ytd-c4-tabbed-header-renderer\">IELTS FACE-OFF</span>"
   ]
  },
  {
   "cell_type": "code",
   "execution_count": 34,
   "metadata": {
    "ExecuteTime": {
     "end_time": "2018-09-14T06:48:25.741222Z",
     "start_time": "2018-09-14T06:48:25.724225Z"
    },
    "scrolled": false
   },
   "outputs": [],
   "source": [
    "def get_channel_display_name(channel_id):\n",
    "    website_url = requests.get(\"https://www.youtube.com/channel/\"+channel_id).text\n",
    "    soup = BeautifulSoup(website_url,'lxml')\n",
    "    text = soup.find_all('span')\n",
    "    print(str(re.findall('title=\"(.*)\"',str(text[111]))))"
   ]
  },
  {
   "cell_type": "code",
   "execution_count": 35,
   "metadata": {
    "ExecuteTime": {
     "end_time": "2018-09-14T06:48:27.884313Z",
     "start_time": "2018-09-14T06:48:26.866367Z"
    }
   },
   "outputs": [
    {
     "name": "stdout",
     "output_type": "stream",
     "text": [
      "['Thịnh Phát TV']\n"
     ]
    }
   ],
   "source": [
    "get_channel_display_name('UC4oVzY3TdbbjjQlGzzJzWkw')"
   ]
  },
  {
   "cell_type": "code",
   "execution_count": 36,
   "metadata": {
    "ExecuteTime": {
     "end_time": "2018-09-14T06:48:28.883906Z",
     "start_time": "2018-09-14T06:48:27.888312Z"
    }
   },
   "outputs": [
    {
     "name": "stdout",
     "output_type": "stream",
     "text": [
      "['BaBy Color']\n"
     ]
    }
   ],
   "source": [
    "get_channel_display_name('UCfS0eUam8GmN3NU0riJwiEg')"
   ]
  },
  {
   "cell_type": "code",
   "execution_count": 38,
   "metadata": {
    "ExecuteTime": {
     "end_time": "2018-09-14T06:49:48.149951Z",
     "start_time": "2018-09-14T06:49:48.142952Z"
    }
   },
   "outputs": [],
   "source": [
    "def get_channel_display_name(channel_id):\n",
    "    dict_channels ={}\n",
    "    website_url = requests.get(\"https://www.youtube.com/channel/\"+channel_id).text\n",
    "    soup = BeautifulSoup(website_url,'lxml')\n",
    "    text = soup.find_all('span')\n",
    "    try:\n",
    "        doc = re.findall('title=\"(.*)\"',str(text[113]))[0]\n",
    "        doc1 = re.findall('title=\"(.*)\"',str(text[112]))[0]\n",
    "        if len(str(doc)) > 14 or len(str(doc1)) > 14 or doc=='':\n",
    "            dict_channels[channel_id] = re.findall('title=\"(.*)\"',str(text[112]))\n",
    "            return re.findall('title=\"(.*)\"',str(text[112]))\n",
    "        else:\n",
    "            dict_channels[channel_id] = re.findall('title=\"(.*)\"',str(text[113]))\n",
    "            return re.findall('title=\"(.*)\"',str(text[113]))\n",
    "    except IndexError:\n",
    "        try:\n",
    "            dict_channels[channel_id] = re.findall('title=\"(.*)\"',str(text[112]))\n",
    "        except IndexError:\n",
    "            try:\n",
    "                dict_channels[channel_id] = re.findall('title=\"(.*)\"',str(text[111]))\n",
    "            except:\n",
    "                return ''"
   ]
  },
  {
   "cell_type": "code",
   "execution_count": 39,
   "metadata": {
    "ExecuteTime": {
     "end_time": "2018-09-14T06:53:38.569436Z",
     "start_time": "2018-09-14T06:49:48.965069Z"
    },
    "scrolled": false
   },
   "outputs": [
    {
     "name": "stdout",
     "output_type": "stream",
     "text": [
      "UC-CcF1XGCRASDRrEOI_zEnQ : ['Kan Kids']\n",
      "UC-ED1Y9R0Iss1r9sFxGo42g : ['Gia Khiêm']\n",
      "UC-N91-1XuOboAS_KOHWxpZw : None\n",
      "UC01qSH2u9gy09mkY8DFZxBw : ['Angel Kids']\n",
      "UC0rDqtyve7lpHoQ1xjfZlTQ : ['AM Kids']\n",
      "UC18Hxqi1DFE1SNMpojzo5OA : None\n",
      "UC1psboQLDVCEOD46RNPZdgg : ['Boomerang Vietnam']\n",
      "UC1yOvzLdFKCF8Kvjv9S67AA : ['Bé KuTin']\n",
      "UC2Me09D_Yqk8sQjqxNxxf0w : ['Me Khờ']\n",
      "UC2X4rcHeVGxc7EAA9jiEJLw : ['ABC Kids Toys Review']\n",
      "UC2abANDLvd-3RYFHuZ3ETrg : ['ĐÔ RÊ MI']\n",
      "UC2kDfx1y4p8Jv_lujE4cKuA : ['Nhạc Thiếu Nhi Cho Bé']\n",
      "UC2tJnB1KDKt3GK_cZKSkbOw : None\n",
      "UC34FYBzqEI_wpZRnBe3A7RQ : ['Phương Nhi Music']\n",
      "UC3tpp3Vwf6Coi9a00ikk5XA : ['Thao Nguyen Teddy']\n",
      "UC4jAQ4v6HpjgAqD3LKOox5A : ['Minh Khánh Kitty Channel']\n",
      "UC4oVzY3TdbbjjQlGzzJzWkw : None\n",
      "UC52EtMzKoIzqBCOF68B92RQ : ['Baby Baby TV']\n",
      "UC5ezaYrzZpyItPSRG27MLpg : ['POPS Kids']\n",
      "UC5fhANBVL7niJEfPMjudSCg : ['DON TV']\n",
      "UC5nH8uoEJuTL9ygXCQPfu5g : ['Dạy Bé Thông Minh']\n",
      "UC6frojHhM93ewqRZMfZ-DBQ : ['Bagger und Traktor Kinderfilm']\n",
      "UC7T_bNunNC25G3odVRs_-Eg : ['POPS Baby']\n",
      "UC89jxlRgoiqAnO_0pm-Ug0g : ['Rainbow Kids']\n",
      "UC8Z2RfKaryEED9xqy-K0wbQ : ['Góc Khéo Tay Kids']\n",
      "UC8nkNR0NiZV08UH3yqT9b0Q : ['Mèo con TV']\n",
      "UC8ztuZeUTlKMqElO2ry61Sw : ['Smile Kids TV']\n",
      "UC9BEBvWWci7TAkB3T3YiF9Q : ['Amazing Toys Reviews']\n",
      "UC9R8TnezjF-ScSxQcnuzhFg : ['BABY KOI MISSION']\n",
      "UC9e-Bd18tWvnVVUujx9Ba4A : ['PA CHANNEL']\n",
      "UC9tK2vaHtiU3OZoGOCKHehw : ['Play English TV']\n",
      "UCAN-XQPLCMh68EuG3h1j3Eg : ['Nhật Lan Vy']\n",
      "UCAmbs86JVFAmfELReXQwQcg : ['Tuyệt Đỉnh Công Phu']\n",
      "UCBC7iY3zmASYO9TgAa5_Tdw : ['Kid &amp; KID']\n",
      "UCBIcWTNcmxCmfn_FaiodsXw : ['Bé Bào Ngư']\n",
      "UCBP-MiOWCFt6LVe2iLpdeqw : ['Good Feeling TV']\n",
      "UCBoCVUfZyLFcXCY0-XGGq1Q : ['PupPy TV - Draw Amazing Coloring']\n",
      "UCBwXt2vO99SDJ2hzdBbBKCg : ['SocBoomBo']\n",
      "UCCGZDrEC_L10Zdc5RLBzCMw : ['Nikita and Vlad']\n",
      "UCCl9DSszLS0xA11H46FbipQ : ['Mimi Toys']\n",
      "UCCz611VixHrUgZfEG4kiWCA : ['Englich Crayon']\n",
      "UCDNw8H-nny5jA-yM2567cQw : ['THIẾU NHI SÁNG TẠO']\n",
      "UCDQX6yL2v1p4VSvgKWLJqJg : ['Trà Giang &amp; Trà My']\n",
      "UCDnmzJXeVgNkpR3ZsQSDSCQ : None\n",
      "UCEb1f9wLZcSbbwRx5xnhg4w : ['BiDu TV']\n",
      "UCExtHfFBgkuxU-Z3W0-fO9A : ['KIDS THT']\n",
      "UCFAkDYbt-wGgwaHl65RzyqA : None\n",
      "UCFY_Wv5GAQwUBAb3lnkAg2w : ['Paradise Slime']\n",
      "UCFb1Kfj_cD6HhnYMX2wo_oQ : ['123Kids TV']\n",
      "UCFwt-ZU95JzYTtr7Gu-W0Gw : ['C COLOR']\n",
      "UCGebtsRvJJ1md0S2Zw8IZ5Q : ['BBtube Fun']\n",
      "UCGeeH3wqD2AWB3NsyBwVrbw : ['MYKINGDOM']\n",
      "UCHu1_FjV9r77T2nSa_htIMg : None\n",
      "UCIMWBezkg9NXQS3uZI7RclQ : ['Ben Lee']\n",
      "UCIQbEX3mnpWosTGT_IIuf5A : ['Big Dragon TV']\n",
      "UCIoVmIUMCIGGJQw66EMtSrA : ['Sen Vang Kids']\n",
      "UCJ7f8Hh7MIH5eeFMk-t1JYA : ['Art And Toys For Kid']\n",
      "UCJRbsNZAwGDQV9dDaj0Xuhg : ['Bé Xì Trum']\n",
      "UCJSqD3sSdMr0mnSwv-_gD4Q : None\n",
      "UCJnRlG44kcLm626Nwq4B6Eg : ['Sắc Màu Vui Nhộn']\n",
      "UCLFvNfAXZ5BRpl3DzSsDN-w : ['Cạp Tv']\n",
      "UCLGXjKqEu7pC6LjKr06HBzA : None\n",
      "UCNap9raL7MSKzoj6a0CJeDw : ['KIDS RUSSIA TV']\n",
      "UCO0KauQgHEBG1gcLYD5jWbA : None\n",
      "UCOGiyClKZkGcTdAzSFg5zCQ : ['tiNi TV']\n",
      "UCOiSWay5VvCd9tgFFfWG0uQ : ['Colors For Children']\n",
      "UCP0-j3Y9rgsUPZEUtgDhiVg : ['MCX Channel TV']\n",
      "UCPQtqiPAD7iZy3poq4jSAkQ : ['Young Hit Young Beat']\n",
      "UCPeAC2we6QVnBaU6A3fiANw : ['BÉ THẦN ĐỒNG']\n",
      "UCQjxJBiIS6otXbsdWF1Xg3w : ['Bé Chíp sún Hồng Long']\n",
      "UCQnhJVVczZoBY5lYcjfS2dg : ['Zic Zic CN']\n",
      "UCQqRc5onhkAZmJtVAG8lOAA : ['Kit Kit TV']\n",
      "UCR7hMu_tI9Gh7IflcPG6oeg : [\"Smile Music's\"]\n",
      "UCRQJI7PP9sHQaaYsK8PFcfQ : ['K-Niños TV']\n",
      "UCRb4eUnH6iMS8Yo06M7bMLQ : ['V CHANNEL']\n",
      "UCS9JKqDiIJqps1S8kpcx2Xg : ['Vinamilk']\n",
      "UCSH1lDqt3FYb3xWIg-W6WXQ : ['H&amp;H Baby TV']\n",
      "UCScqLJPmur451W0duOjubiw : None\n",
      "UCSdc7HnrpocFiikXX8y9xjA : None\n",
      "UCSkZeVTfy_emZf_7lujP2bg : ['Bé Bảo An']\n",
      "UCTKprjx8jQ_h1IUCodl05ZQ : ['Trung Lalala']\n",
      "UCTtS7KlX4XSukiMn-I79WFw : ['KIDSTV']\n",
      "UCU42rnh00bxBxzSw1gG5tSg : ['KATC Super Kids Games And Toys Collection']\n",
      "UCVQYXbJgz40B6Sr-o6cVBvA : ['1F2N Friends']\n",
      "UCVcHySm1tTkJeo2oJGEh8lQ : ['Toys Kids TV']\n",
      "UCVi_GtP-1stDmhPuWCCQ5KA : ['Abi and Friends']\n",
      "UCWXrx8EldKEgeP1KpbmUjBQ : None\n",
      "UCXxi9eLT4JTdVYgwm6Wh6sg : None\n",
      "UCYWvgY7gR8bUnRo877-286A : ['Linh Hoa channel']\n",
      "UCYn74n3cBtT5lYvlbLNYMBg : ['Hoài Nam TV']\n",
      "UCZ-SZBsfCz1MZQ05y7Q0eWQ : None\n",
      "UC_A-SZtdz6_crpNGYkOctGA : ['Trang Thư Official']\n",
      "UC_GUXzGCobQryDa2QHPIM8w : ['OMO TV']\n",
      "UCaERYzGshqNVNfV0ilK6OFg : ['JU UYEN NHI official']\n",
      "UCagDEcTvggjbeiXtKyeHWPg : ['Hân']\n",
      "UCamuUo6F8lnuWM5HTgY19eg : ['Toys Play Time']\n",
      "UCbNZY79eIh9S2tfllaMLwoA : ['Media For Kids']\n",
      "UCbOurR9fMg9bTItVJROA_7A : ['TEEMY Timaï']\n",
      "UCblEzSpmbeg6qSG31QD5VHg : ['Color Clay']\n",
      "UCce0Nz8mkvV-iVo4XZRmofw : ['Dodo - Kids']\n",
      "UCcxPlohlvKaXYhTFSAz5obw : None\n",
      "UCd_fY3yXXhaZrmepi5CCncw : ['Đồ Chơi Trẻ Em']\n",
      "UCdb3QmyzSVTrjqLwUzkiZ7g : ['Bé Phan Hiếu Kiên']\n",
      "UCduh9o1b-92OK9i8jGp28cQ : ['Rabbit Toys and Dolls']\n",
      "UCdzF3OLZ3aqODZfzbhU08UQ : ['Cool TV']\n",
      "UCeIHEARqp17NOqYPNeCcTMw : ['Hai Kids']\n",
      "UCfS0eUam8GmN3NU0riJwiEg : None\n",
      "UCfgw_8ejPgtgMEz_KpQj7yw : ['BỐ BI']\n",
      "UCg7_K4dqdPTqmQ60Kn_fjqg : ['Nhạc Thiếu Nhi Hay']\n",
      "UCgBzlssa9-TqvDFz0jEFpBg : ['Bi Béo – Xuân Bắc']\n",
      "UCgH33r0H7oC5Zbakg8EjSxw : None\n",
      "UCgLa3alZHE_b35p2qFjzlaA : ['Bích Phương Studio']\n",
      "UCgMoleosGJG-t5jDrypFUpQ : ['Bảo Nghi Official']\n",
      "UChnNpoIKtRHY_P_ieYZy8XQ : ['YOUNG HIT YOUNG BEAT NHÍ TÀI NĂNG 2015']\n",
      "UCiBqkt1XRbvt_lxyvBnodvQ : ['Tin Tức Sao Nhí']\n",
      "UCiu6Pc8Dix53ijEWSXRHNnQ : ['Toys Kids And Funny TV']\n",
      "UCivyBDhJApIFIUJPWF0dpeQ : ['Kids Tv France']\n",
      "UCjAivVpSH7tFbC1Tqfvc7Qg : None\n",
      "UCjGZoFtIH9O9Ssvb7FsQOOQ : ['POPS Up']\n",
      "UCjR9qNrsnieK0Qg-gbVk1ww : ['Mouse Family']\n",
      "UCjhw1l_1_wTwI1JuDxo96bg : ['MUSIC4K']\n",
      "UCjly67ScgKkxQfeg_LfQudw : ['Học Mà Chơi']\n",
      "UCkKLNPuz4S1IXOXFJLo6iLg : ['Bảo Khương Channel']\n",
      "UCkgdDBHO7zl3tWIjldQeK7g : ['POPS Anime']\n",
      "UCkkK6LeBC8j3jhFU841UqWw : ['Children Toys']\n",
      "UCkyrwWdnBPixlzQADYQJ8ow : ['Bé Xuân Mai']\n",
      "UCl2uHT32gNGf7VjnkxRs5qw : None\n",
      "UClgHa0gWisbmYMT7rwYU-Xg : ['Bé Khánh Ngọc']\n",
      "UClvYV9UUkYFIhcLQ6CExL6w : ['Piggy Piggy']\n",
      "UClyPROxA6CUfkZ5LnciRU3Q : ['DƯƠNG NGHI ĐÌNH OFFICIAL']\n",
      "UCmIRPvCjHfEZ8RFxAsrjYMA : None\n",
      "UCmIxohIXnstbc2Tt_6Wnr1g : ['ABC FOR KIDS']\n",
      "UCmcNyhNLDUe6qJ7wFeHk0yQ : ['iKIDS Muzik']\n",
      "UCnETOwCOHk9Aa6kdxnTnffA : ['Linh Hoa Slime']\n",
      "UCo75zHSLMD5nac5xirUeqhw : ['KCN Channel Tv']\n",
      "UCoeXs3gUywI0SjpnWiMq7yA : ['Hoàng Bách']\n",
      "UCq0C8beWjMJLY8ZEhuCaEhA : ['Taiwan Music Express']\n",
      "UCqFlXuw5PPUOqqtzBWB8DoQ : ['Thoại Nghi']\n",
      "UCqan59B0AOEwggMWgezrNbg : ['Vina Cartoon']\n",
      "UCqxi3-CicPPD5nld5xXKy7Q : ['Teddy ToysReview']\n",
      "UCrFmqVj02atbhsVZa2FAAGA : ['Bé Sáng Tạo']\n",
      "UCrfS5KW1JgXsIgt57SAaZlg : ['BabyFamily TV']\n",
      "UCsZMHQyqQ9nMgzRVWCODT_A : None\n",
      "UCsq-__l33nF2ZeC_sTDQ36w : ['ALU tivi']\n",
      "UCsxYWFs3wpn8JEEIGXiw1MQ : ['Hello Kids VN']\n",
      "UCu99HHMJYUXHPGBVSz7S2eg : ['Nhã Thy']\n",
      "UCuHfmx-CJVLOg4eSKrjIA-Q : ['iKids Songs']\n",
      "UCuKIDy20OrxaPDwDI3pt5KQ : ['NiDo Channel']\n",
      "UCuQcrWQ7s8beKIJvcLV_9rQ : None\n",
      "UCuYPSQb-RGVehTubXMFoQ2A : ['Kid World']\n",
      "UCuhkhSAsTuequwepC8fiVbA : ['Victoria Nguyễn']\n",
      "UCunfnbk6n30sc3XYU0Hw0bw : ['Bé Quý Dương']\n",
      "UCv6T2luURWjSDYM_w5m82tA : ['Toys And Kids']\n",
      "UCvQORpSvHt_o0m101sSgA1A : ['THƠ VÀ ĐỒNG DAO CHO BÉ']\n",
      "UCvcZJIApWRKkfHBkCiXuraA : ['Nguyệt Thu']\n",
      "UCwj4gsfMpLf5a6AoWn2K_xA : ['Hoa Mặt Trời tv']\n",
      "UCx2uvTkF3F6BmbFJQqzwYgA : ['LOR Candy TV']\n",
      "UCxA_LeZAvRr3PUxjghr6nVA : ['Art For Kids Gon']\n",
      "UCyLkN7y4q_gqS8nF34pwpjw : ['MMM Channel']\n",
      "UCySRDMxR5mjOjO8G4V9jArA : ['Ktoon Thế giới hoạt hình']\n",
      "UCyVYohoQsFTiJK8Qd5DkcfQ : ['Kids Farm']\n"
     ]
    }
   ],
   "source": [
    "for id in channel_id:\n",
    "    channel_display_name = get_channel_display_name(id)\n",
    "    print(\"{} : {}\".format(id,channel_display_name))"
   ]
  }
 ],
 "metadata": {
  "kernelspec": {
   "display_name": "Python 3",
   "language": "python",
   "name": "python3"
  },
  "language_info": {
   "codemirror_mode": {
    "name": "ipython",
    "version": 3
   },
   "file_extension": ".py",
   "mimetype": "text/x-python",
   "name": "python",
   "nbconvert_exporter": "python",
   "pygments_lexer": "ipython3",
   "version": "3.6.5"
  }
 },
 "nbformat": 4,
 "nbformat_minor": 2
}
